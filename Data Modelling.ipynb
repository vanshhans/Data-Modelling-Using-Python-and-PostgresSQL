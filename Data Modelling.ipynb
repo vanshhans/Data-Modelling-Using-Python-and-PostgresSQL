{
 "cells": [
  {
   "cell_type": "code",
   "execution_count": 1,
   "id": "05e03e15",
   "metadata": {},
   "outputs": [
    {
     "name": "stdout",
     "output_type": "stream",
     "text": [
      "Requirement already satisfied: psycopg2 in c:\\users\\vansh_ssd\\anaconda3\\lib\\site-packages (2.9.9)\n",
      "Requirement already satisfied: pandas in c:\\users\\vansh_ssd\\anaconda3\\lib\\site-packages (1.5.3)\n",
      "Requirement already satisfied: python-dateutil>=2.8.1 in c:\\users\\vansh_ssd\\anaconda3\\lib\\site-packages (from pandas) (2.8.2)\n",
      "Requirement already satisfied: pytz>=2020.1 in c:\\users\\vansh_ssd\\anaconda3\\lib\\site-packages (from pandas) (2022.7)\n",
      "Requirement already satisfied: numpy>=1.21.0 in c:\\users\\vansh_ssd\\anaconda3\\lib\\site-packages (from pandas) (1.24.3)\n",
      "Requirement already satisfied: six>=1.5 in c:\\users\\vansh_ssd\\anaconda3\\lib\\site-packages (from python-dateutil>=2.8.1->pandas) (1.16.0)\n",
      "Note: you may need to restart the kernel to use updated packages.\n"
     ]
    }
   ],
   "source": [
    "pip install psycopg2 pandas"
   ]
  },
  {
   "cell_type": "code",
   "execution_count": 2,
   "id": "8db94480",
   "metadata": {},
   "outputs": [],
   "source": [
    "def createDatabase():\n",
    "    conn=psycopg2.connect(\"host=127.0.0.1 dbname=postgres port=5433 user=postgres password=NoBodyDoesItBetter@69\")\n",
    "    curr=conn.cursor()\n",
    "    conn.set_session(autocommit=True)\n",
    "    \n",
    "    curr.execute(\"DROP DATABASE IF EXISTS taxis\")\n",
    "    curr.execute(\"CREATE DATABASE taxis\")\n",
    "    \n",
    "    conn.close()\n",
    "    \n",
    "    conn=psycopg2.connect(\"host=127.0.0.1 dbname=taxis port=5433 user=postgres password=NoBodyDoesItBetter@69\")\n",
    "    curr=conn.cursor()\n",
    "    \n",
    "    return curr,conn"
   ]
  },
  {
   "cell_type": "code",
   "execution_count": 3,
   "id": "52ce6c72",
   "metadata": {},
   "outputs": [],
   "source": [
    "import psycopg2\n",
    "import pandas as pd"
   ]
  },
  {
   "cell_type": "code",
   "execution_count": 4,
   "id": "089f6464",
   "metadata": {},
   "outputs": [],
   "source": [
    "customerId=pd.read_csv(\"./Taxi_Dataset/Customer_ID.csv\")"
   ]
  },
  {
   "cell_type": "code",
   "execution_count": 5,
   "id": "aa9c253d",
   "metadata": {},
   "outputs": [
    {
     "data": {
      "text/html": [
       "<div>\n",
       "<style scoped>\n",
       "    .dataframe tbody tr th:only-of-type {\n",
       "        vertical-align: middle;\n",
       "    }\n",
       "\n",
       "    .dataframe tbody tr th {\n",
       "        vertical-align: top;\n",
       "    }\n",
       "\n",
       "    .dataframe thead th {\n",
       "        text-align: right;\n",
       "    }\n",
       "</style>\n",
       "<table border=\"1\" class=\"dataframe\">\n",
       "  <thead>\n",
       "    <tr style=\"text-align: right;\">\n",
       "      <th></th>\n",
       "      <th>Customer ID</th>\n",
       "      <th>Gender</th>\n",
       "      <th>Age</th>\n",
       "      <th>Income (USD/Month)</th>\n",
       "    </tr>\n",
       "  </thead>\n",
       "  <tbody>\n",
       "    <tr>\n",
       "      <th>0</th>\n",
       "      <td>29290</td>\n",
       "      <td>Male</td>\n",
       "      <td>28</td>\n",
       "      <td>10813</td>\n",
       "    </tr>\n",
       "    <tr>\n",
       "      <th>1</th>\n",
       "      <td>27703</td>\n",
       "      <td>Male</td>\n",
       "      <td>27</td>\n",
       "      <td>9237</td>\n",
       "    </tr>\n",
       "    <tr>\n",
       "      <th>2</th>\n",
       "      <td>28712</td>\n",
       "      <td>Male</td>\n",
       "      <td>53</td>\n",
       "      <td>11242</td>\n",
       "    </tr>\n",
       "    <tr>\n",
       "      <th>3</th>\n",
       "      <td>28020</td>\n",
       "      <td>Male</td>\n",
       "      <td>23</td>\n",
       "      <td>23327</td>\n",
       "    </tr>\n",
       "    <tr>\n",
       "      <th>4</th>\n",
       "      <td>27182</td>\n",
       "      <td>Male</td>\n",
       "      <td>33</td>\n",
       "      <td>8536</td>\n",
       "    </tr>\n",
       "  </tbody>\n",
       "</table>\n",
       "</div>"
      ],
      "text/plain": [
       "   Customer ID Gender  Age  Income (USD/Month)\n",
       "0        29290   Male   28               10813\n",
       "1        27703   Male   27                9237\n",
       "2        28712   Male   53               11242\n",
       "3        28020   Male   23               23327\n",
       "4        27182   Male   33                8536"
      ]
     },
     "execution_count": 5,
     "metadata": {},
     "output_type": "execute_result"
    }
   ],
   "source": [
    "customerId.head()"
   ]
  },
  {
   "cell_type": "code",
   "execution_count": 6,
   "id": "3bd2d807",
   "metadata": {},
   "outputs": [],
   "source": [
    "taxiData=pd.read_csv(\"./Taxi_Dataset/Taxi_Data.csv\")"
   ]
  },
  {
   "cell_type": "code",
   "execution_count": 7,
   "id": "f82b2c4f",
   "metadata": {},
   "outputs": [
    {
     "data": {
      "text/html": [
       "<div>\n",
       "<style scoped>\n",
       "    .dataframe tbody tr th:only-of-type {\n",
       "        vertical-align: middle;\n",
       "    }\n",
       "\n",
       "    .dataframe tbody tr th {\n",
       "        vertical-align: top;\n",
       "    }\n",
       "\n",
       "    .dataframe thead th {\n",
       "        text-align: right;\n",
       "    }\n",
       "</style>\n",
       "<table border=\"1\" class=\"dataframe\">\n",
       "  <thead>\n",
       "    <tr style=\"text-align: right;\">\n",
       "      <th></th>\n",
       "      <th>Transaction ID</th>\n",
       "      <th>Date of Travel</th>\n",
       "      <th>Company</th>\n",
       "      <th>City</th>\n",
       "      <th>Distance Travelled(KM)</th>\n",
       "      <th>Price Charged</th>\n",
       "      <th>Cost of Trip</th>\n",
       "    </tr>\n",
       "  </thead>\n",
       "  <tbody>\n",
       "    <tr>\n",
       "      <th>0</th>\n",
       "      <td>10000011</td>\n",
       "      <td>42377</td>\n",
       "      <td>Pink Cab</td>\n",
       "      <td>ATLANTA GA</td>\n",
       "      <td>30.45</td>\n",
       "      <td>370.95</td>\n",
       "      <td>313.635</td>\n",
       "    </tr>\n",
       "    <tr>\n",
       "      <th>1</th>\n",
       "      <td>10000012</td>\n",
       "      <td>42375</td>\n",
       "      <td>Pink Cab</td>\n",
       "      <td>ATLANTA GA</td>\n",
       "      <td>28.62</td>\n",
       "      <td>358.52</td>\n",
       "      <td>334.854</td>\n",
       "    </tr>\n",
       "    <tr>\n",
       "      <th>2</th>\n",
       "      <td>10000013</td>\n",
       "      <td>42371</td>\n",
       "      <td>Pink Cab</td>\n",
       "      <td>ATLANTA GA</td>\n",
       "      <td>9.04</td>\n",
       "      <td>125.20</td>\n",
       "      <td>97.632</td>\n",
       "    </tr>\n",
       "    <tr>\n",
       "      <th>3</th>\n",
       "      <td>10000014</td>\n",
       "      <td>42376</td>\n",
       "      <td>Pink Cab</td>\n",
       "      <td>ATLANTA GA</td>\n",
       "      <td>33.17</td>\n",
       "      <td>377.40</td>\n",
       "      <td>351.602</td>\n",
       "    </tr>\n",
       "    <tr>\n",
       "      <th>4</th>\n",
       "      <td>10000015</td>\n",
       "      <td>42372</td>\n",
       "      <td>Pink Cab</td>\n",
       "      <td>ATLANTA GA</td>\n",
       "      <td>8.73</td>\n",
       "      <td>114.62</td>\n",
       "      <td>97.776</td>\n",
       "    </tr>\n",
       "  </tbody>\n",
       "</table>\n",
       "</div>"
      ],
      "text/plain": [
       "   Transaction ID  Date of Travel   Company        City  \\\n",
       "0        10000011           42377  Pink Cab  ATLANTA GA   \n",
       "1        10000012           42375  Pink Cab  ATLANTA GA   \n",
       "2        10000013           42371  Pink Cab  ATLANTA GA   \n",
       "3        10000014           42376  Pink Cab  ATLANTA GA   \n",
       "4        10000015           42372  Pink Cab  ATLANTA GA   \n",
       "\n",
       "   Distance Travelled(KM)  Price Charged  Cost of Trip  \n",
       "0                   30.45         370.95       313.635  \n",
       "1                   28.62         358.52       334.854  \n",
       "2                    9.04         125.20        97.632  \n",
       "3                   33.17         377.40       351.602  \n",
       "4                    8.73         114.62        97.776  "
      ]
     },
     "execution_count": 7,
     "metadata": {},
     "output_type": "execute_result"
    }
   ],
   "source": [
    "taxiData.head()"
   ]
  },
  {
   "cell_type": "code",
   "execution_count": 8,
   "id": "3d64a1b0",
   "metadata": {},
   "outputs": [],
   "source": [
    "transactionId=pd.read_csv(\"./Taxi_Dataset/Transaction_ID.csv\")"
   ]
  },
  {
   "cell_type": "code",
   "execution_count": 9,
   "id": "1ad5298d",
   "metadata": {},
   "outputs": [
    {
     "data": {
      "text/html": [
       "<div>\n",
       "<style scoped>\n",
       "    .dataframe tbody tr th:only-of-type {\n",
       "        vertical-align: middle;\n",
       "    }\n",
       "\n",
       "    .dataframe tbody tr th {\n",
       "        vertical-align: top;\n",
       "    }\n",
       "\n",
       "    .dataframe thead th {\n",
       "        text-align: right;\n",
       "    }\n",
       "</style>\n",
       "<table border=\"1\" class=\"dataframe\">\n",
       "  <thead>\n",
       "    <tr style=\"text-align: right;\">\n",
       "      <th></th>\n",
       "      <th>Transaction ID</th>\n",
       "      <th>Customer ID</th>\n",
       "      <th>Payment_Mode</th>\n",
       "    </tr>\n",
       "  </thead>\n",
       "  <tbody>\n",
       "    <tr>\n",
       "      <th>0</th>\n",
       "      <td>10000011</td>\n",
       "      <td>29290</td>\n",
       "      <td>Card</td>\n",
       "    </tr>\n",
       "    <tr>\n",
       "      <th>1</th>\n",
       "      <td>10000012</td>\n",
       "      <td>27703</td>\n",
       "      <td>Card</td>\n",
       "    </tr>\n",
       "    <tr>\n",
       "      <th>2</th>\n",
       "      <td>10000013</td>\n",
       "      <td>28712</td>\n",
       "      <td>Cash</td>\n",
       "    </tr>\n",
       "    <tr>\n",
       "      <th>3</th>\n",
       "      <td>10000014</td>\n",
       "      <td>28020</td>\n",
       "      <td>Cash</td>\n",
       "    </tr>\n",
       "    <tr>\n",
       "      <th>4</th>\n",
       "      <td>10000015</td>\n",
       "      <td>27182</td>\n",
       "      <td>Card</td>\n",
       "    </tr>\n",
       "  </tbody>\n",
       "</table>\n",
       "</div>"
      ],
      "text/plain": [
       "   Transaction ID  Customer ID Payment_Mode\n",
       "0        10000011        29290         Card\n",
       "1        10000012        27703         Card\n",
       "2        10000013        28712         Cash\n",
       "3        10000014        28020         Cash\n",
       "4        10000015        27182         Card"
      ]
     },
     "execution_count": 9,
     "metadata": {},
     "output_type": "execute_result"
    }
   ],
   "source": [
    "transactionId.head()"
   ]
  },
  {
   "cell_type": "code",
   "execution_count": 10,
   "id": "bf6cce5e",
   "metadata": {},
   "outputs": [
    {
     "data": {
      "text/plain": [
       "Customer ID            int64\n",
       "Gender                object\n",
       "Age                    int64\n",
       "Income (USD/Month)     int64\n",
       "dtype: object"
      ]
     },
     "execution_count": 10,
     "metadata": {},
     "output_type": "execute_result"
    }
   ],
   "source": [
    "customerId.dtypes"
   ]
  },
  {
   "cell_type": "code",
   "execution_count": 11,
   "id": "9f96b35d",
   "metadata": {},
   "outputs": [
    {
     "data": {
      "text/plain": [
       "Transaction ID              int64\n",
       "Date of Travel              int64\n",
       "Company                    object\n",
       "City                       object\n",
       "Distance Travelled(KM)    float64\n",
       "Price Charged             float64\n",
       "Cost of Trip              float64\n",
       "dtype: object"
      ]
     },
     "execution_count": 11,
     "metadata": {},
     "output_type": "execute_result"
    }
   ],
   "source": [
    "taxiData.dtypes"
   ]
  },
  {
   "cell_type": "code",
   "execution_count": 12,
   "id": "dd749e6f",
   "metadata": {},
   "outputs": [
    {
     "data": {
      "text/plain": [
       "Transaction ID     int64\n",
       "Customer ID        int64\n",
       "Payment_Mode      object\n",
       "dtype: object"
      ]
     },
     "execution_count": 12,
     "metadata": {},
     "output_type": "execute_result"
    }
   ],
   "source": [
    "transactionId.dtypes"
   ]
  },
  {
   "cell_type": "code",
   "execution_count": 13,
   "id": "16415442",
   "metadata": {},
   "outputs": [],
   "source": [
    "curr,conn=createDatabase()"
   ]
  },
  {
   "cell_type": "code",
   "execution_count": 14,
   "id": "cef5bba2",
   "metadata": {},
   "outputs": [],
   "source": [
    "customerId_table_create=(\"\"\"CREATE TABLE IF NOT EXISTS customerId(\n",
    "customer_id int PRIMARY KEY,\n",
    "gender varchar,\n",
    "age int,\n",
    "income int\n",
    ")\"\"\")"
   ]
  },
  {
   "cell_type": "code",
   "execution_count": 15,
   "id": "27353842",
   "metadata": {},
   "outputs": [],
   "source": [
    "curr.execute(customerId_table_create)\n",
    "conn.commit()"
   ]
  },
  {
   "cell_type": "code",
   "execution_count": 16,
   "id": "4a37d697",
   "metadata": {},
   "outputs": [],
   "source": [
    "taxiData_table_create=(\"\"\"CREATE TABLE IF NOT EXISTS taxiData(\n",
    "transactionId int PRIMARY KEY,\n",
    "dateOfTravel int,\n",
    "company varchar,\n",
    "city varchar,\n",
    "distanceTravelled float,\n",
    "priceCharged float,\n",
    "costOfTrip float\n",
    ")\"\"\")\n",
    "curr.execute(taxiData_table_create)\n",
    "conn.commit()"
   ]
  },
  {
   "cell_type": "code",
   "execution_count": 17,
   "id": "4087be09",
   "metadata": {},
   "outputs": [],
   "source": [
    "transactionId_table_create=(\"\"\"CREATE TABLE IF NOT EXISTS transactionId(\n",
    "transactionId int PRIMARY KEY,\n",
    "customer_id int REFERENCES customerId(customer_id),\n",
    "mode_of_payment varchar\n",
    ")\"\"\")\n",
    "curr.execute(transactionId_table_create)\n",
    "conn.commit()"
   ]
  },
  {
   "cell_type": "code",
   "execution_count": 18,
   "id": "5431e9e7",
   "metadata": {},
   "outputs": [],
   "source": [
    "customerId_table_insert=(\"\"\" INSERT INTO customerId(\n",
    "customer_id,\n",
    "gender,\n",
    "age,\n",
    "income\n",
    ")\n",
    "VALUES(%s,%s,%s,%s)\n",
    "\"\"\")"
   ]
  },
  {
   "cell_type": "code",
   "execution_count": 19,
   "id": "9a6c9159",
   "metadata": {},
   "outputs": [],
   "source": [
    "for i,row in customerId.iterrows():\n",
    "    curr.execute(customerId_table_insert,list(row))"
   ]
  },
  {
   "cell_type": "code",
   "execution_count": 20,
   "id": "0a1cba05",
   "metadata": {},
   "outputs": [],
   "source": [
    "conn.commit()"
   ]
  },
  {
   "cell_type": "code",
   "execution_count": 29,
   "id": "15a41f9f",
   "metadata": {},
   "outputs": [],
   "source": [
    "taxiData_table_insert=(\"\"\" INSERT INTO taxiData(\n",
    "transactionId,\n",
    "dateOfTravel,\n",
    "company,\n",
    "city,\n",
    "distanceTravelled,\n",
    "priceCharged,\n",
    "costOfTrip\n",
    ")\n",
    "VALUES(%s,%s,%s,%s,%s,%s,%s)\n",
    "\"\"\")"
   ]
  },
  {
   "cell_type": "code",
   "execution_count": 30,
   "id": "c0483677",
   "metadata": {},
   "outputs": [],
   "source": [
    "for i,row in taxiData.iterrows():\n",
    "    curr.execute(taxiData_table_insert,list(row))\n",
    "    conn.commit()"
   ]
  },
  {
   "cell_type": "code",
   "execution_count": 31,
   "id": "c4924012",
   "metadata": {},
   "outputs": [],
   "source": [
    "transactionId_table_insert=(\"\"\" INSERT INTO transactionId(\n",
    "transactionId,\n",
    "customer_id,\n",
    "mode_of_payment\n",
    ")\n",
    "VALUES(%s,%s,%s)\n",
    "\"\"\")"
   ]
  },
  {
   "cell_type": "code",
   "execution_count": 32,
   "id": "6d65037a",
   "metadata": {},
   "outputs": [],
   "source": [
    "for i,row in transactionId.iterrows():\n",
    "    curr.execute(transactionId_table_insert,list(row))\n",
    "    conn.commit()"
   ]
  },
  {
   "cell_type": "code",
   "execution_count": null,
   "id": "7344e3e3",
   "metadata": {},
   "outputs": [],
   "source": []
  }
 ],
 "metadata": {
  "kernelspec": {
   "display_name": "Python 3 (ipykernel)",
   "language": "python",
   "name": "python3"
  },
  "language_info": {
   "codemirror_mode": {
    "name": "ipython",
    "version": 3
   },
   "file_extension": ".py",
   "mimetype": "text/x-python",
   "name": "python",
   "nbconvert_exporter": "python",
   "pygments_lexer": "ipython3",
   "version": "3.11.3"
  }
 },
 "nbformat": 4,
 "nbformat_minor": 5
}
